{
 "cells": [
  {
   "cell_type": "code",
   "execution_count": 1,
   "id": "3ee1f8d5",
   "metadata": {},
   "outputs": [
    {
     "name": "stderr",
     "output_type": "stream",
     "text": [
      "C:\\Users\\uSEr\\anaconda3\\lib\\site-packages\\scipy\\__init__.py:138: UserWarning: A NumPy version >=1.16.5 and <1.23.0 is required for this version of SciPy (detected version 1.24.4)\n",
      "  warnings.warn(f\"A NumPy version >={np_minversion} and <{np_maxversion} is required for this version of \"\n"
     ]
    }
   ],
   "source": [
    "import pandas as pd\n",
    "import numpy as np\n",
    "from sklearn.preprocessing import LabelEncoder\n",
    "from pandas.api.types import is_numeric_dtype\n",
    "from sklearn.ensemble import RandomForestClassifier  # or RandomForestRegressor\n",
    "from sklearn.ensemble import RandomForestRegressor  # or RandomForestRegressor\n",
    "from sklearn.model_selection import train_test_split"
   ]
  },
  {
   "cell_type": "code",
   "execution_count": 2,
   "id": "9ba91b62",
   "metadata": {},
   "outputs": [],
   "source": [
    "data = pd.read_csv(\"train.csv\")"
   ]
  },
  {
   "cell_type": "code",
   "execution_count": 3,
   "id": "08466874",
   "metadata": {},
   "outputs": [],
   "source": [
    "def featurePrep(d,num_feature_using):\n",
    "    d_ = d.copy()\n",
    "    d_ = d_[d_.columns[d_.isna().sum() < (len(d_) / 2)]]\n",
    "    #remove column that have alot of null\n",
    "    if \"id\" in d_.columns:\n",
    "        d_.drop(columns=['Id'],inplace = True)\n",
    "    mapencoder = {}\n",
    "    #dealing with non-numeric type data\n",
    "    for i in d_.columns:\n",
    "        if not is_numeric_dtype(d_[i]):\n",
    "            le = LabelEncoder()\n",
    "            d_.loc[:,i] = le.fit_transform(d_[i])\n",
    "            mapencoder[i] = le\n",
    "    d_.columns[d_.isna().sum() != 0]\n",
    "    values = {\"LotFrontage\": d_.mean()[\"LotFrontage\"], \"MasVnrArea\": d_.mean()[\"MasVnrArea\"], \"GarageYrBlt\": d_.mean()[\"GarageYrBlt\"]}\n",
    "    d_.fillna(value=values,inplace = True)\n",
    "    \n",
    "    #Sort Feature\n",
    "    y_data = d_[\"SalePrice\"]\n",
    "    x_data = d_.drop(columns=['SalePrice'])\n",
    "    model = RandomForestClassifier()  # or RandomForestRegressor\n",
    "    model.fit(x_data, y_data)\n",
    "    feature_importance = model.feature_importances_\n",
    "    featureSoreByImportant = [x_data.columns[x] for x in np.argsort(feature_importance)[::-1]]\n",
    "    \n",
    "    feature_selected = featureSoreByImportant[:num_feature_using] \n",
    "    data_feature_selected = d_[feature_selected]\n",
    "    return y_data,data_feature_selected,feature_selected\n"
   ]
  },
  {
   "cell_type": "code",
   "execution_count": 4,
   "id": "d4c6d439",
   "metadata": {},
   "outputs": [],
   "source": [
    "y_data,data_preped,feature_used = featurePrep(data,10)"
   ]
  },
  {
   "cell_type": "code",
   "execution_count": 5,
   "id": "26b3761c",
   "metadata": {},
   "outputs": [
    {
     "data": {
      "text/plain": [
       "['Id',\n",
       " 'GrLivArea',\n",
       " 'LotArea',\n",
       " '1stFlrSF',\n",
       " 'GarageArea',\n",
       " 'BsmtUnfSF',\n",
       " 'TotalBsmtSF',\n",
       " 'LotFrontage',\n",
       " 'YearBuilt',\n",
       " 'GarageYrBlt']"
      ]
     },
     "execution_count": 5,
     "metadata": {},
     "output_type": "execute_result"
    }
   ],
   "source": [
    "feature_used"
   ]
  },
  {
   "cell_type": "code",
   "execution_count": 6,
   "id": "0f88b089",
   "metadata": {},
   "outputs": [],
   "source": [
    "X_train, X_test, y_train, y_test = train_test_split(data_preped, y_data, test_size=0.33, random_state=42) \n",
    "# splitting the data for testing"
   ]
  },
  {
   "cell_type": "code",
   "execution_count": 7,
   "id": "774c0b7b",
   "metadata": {},
   "outputs": [
    {
     "data": {
      "text/plain": [
       "0.8282300650052407"
      ]
     },
     "execution_count": 7,
     "metadata": {},
     "output_type": "execute_result"
    }
   ],
   "source": [
    "Reg_model = RandomForestRegressor()\n",
    "Reg_model.fit(X_train,y_train)\n",
    "Reg_model.score(X_test,y_test)\n",
    "# testing the model"
   ]
  },
  {
   "cell_type": "code",
   "execution_count": null,
   "id": "f7b31719",
   "metadata": {},
   "outputs": [],
   "source": []
  }
 ],
 "metadata": {
  "kernelspec": {
   "display_name": "Python 3",
   "language": "python",
   "name": "python3"
  },
  "language_info": {
   "codemirror_mode": {
    "name": "ipython",
    "version": 3
   },
   "file_extension": ".py",
   "mimetype": "text/x-python",
   "name": "python",
   "nbconvert_exporter": "python",
   "pygments_lexer": "ipython3",
   "version": "3.8.8"
  }
 },
 "nbformat": 4,
 "nbformat_minor": 5
}
